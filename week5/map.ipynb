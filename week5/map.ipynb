{
 "cells": [
  {
   "cell_type": "code",
   "execution_count": 15,
   "metadata": {},
   "outputs": [],
   "source": [
    "import folium\n",
    "ドルチェフェリーチェエ=[35.94656,139.84871]\n",
    "m=folium.Map(location=ドルチェフェリーチェエ,zoom_start=11)\n",
    "folium.Marker(ドルチェフェリーチェエ,\n",
    "              popup=\"洋菓子\",\n",
    "              tooltip=\"ドルチェフェリーチェエ\").add_to(m)\n",
    "ルポワソンダヴリル =[35.8472237, 139.95483794]\n",
    "folium.Marker(ルポワソンダヴリル,\n",
    "              popup=\"洋菓子\",\n",
    "              tooltip=\"ル・ポワソン・ダヴリル\").add_to(m)\n",
    "シャトレーゼ=[35.83694393027299, 139.9474686380829]\n",
    "folium.Marker(シャトレーゼ,\n",
    "              popoup=\"デザート　ショップ\",\n",
    "              tooltip=\"シャトレーゼ\").add_to(m)\n",
    "パティスリーマーサ=[35.827423702114416, 139.93575811352474]\n",
    "folium.Marker(パティスリーマーサ,\n",
    "              popup=\"ケーキ屋\",\n",
    "              tooltip=\"パティスリー　マーサ\").add_to(m)\n",
    "オランダ家新柏店=[35.84126776473283, 139.9697271675617]\n",
    "folium.Marker(オランダ家新柏店,\n",
    "              popup=\"洋菓子店\",\n",
    "              tooltip=\"オランダ家新柏店\").add_to(m)\n",
    "\n",
    "\n",
    "\n",
    "m\n",
    "m.save('map.html')\n",
    "\n"
   ]
  }
 ],
 "metadata": {
  "kernelspec": {
   "display_name": "gis",
   "language": "python",
   "name": "python3"
  },
  "language_info": {
   "codemirror_mode": {
    "name": "ipython",
    "version": 3
   },
   "file_extension": ".py",
   "mimetype": "text/x-python",
   "name": "python",
   "nbconvert_exporter": "python",
   "pygments_lexer": "ipython3",
   "version": "3.11.9"
  }
 },
 "nbformat": 4,
 "nbformat_minor": 2
}
