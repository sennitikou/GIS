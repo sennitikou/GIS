{
 "cells": [
  {
   "cell_type": "code",
   "execution_count": 3,
   "metadata": {},
   "outputs": [],
   "source": [
    "import folium\n",
    "ドルチェフェリーチェエ=[35.94656,139.84871]\n",
    "m=folium.Map(location=ドルチェフェリーチェエ,zoom_start=8)\n",
    "folium.Marker(ドルチェフェリーチェエ,\n",
    "              popup=\"洋菓子\",\n",
    "              tooltip=\"ドルチェフェリーチェエ\").add_to(m)\n",
    "m\n",
    "m.save('map.html')"
   ]
  }
 ],
 "metadata": {
  "kernelspec": {
   "display_name": "gis",
   "language": "python",
   "name": "python3"
  },
  "language_info": {
   "codemirror_mode": {
    "name": "ipython",
    "version": 3
   },
   "file_extension": ".py",
   "mimetype": "text/x-python",
   "name": "python",
   "nbconvert_exporter": "python",
   "pygments_lexer": "ipython3",
   "version": "3.11.9"
  }
 },
 "nbformat": 4,
 "nbformat_minor": 2
}
